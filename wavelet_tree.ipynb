{
 "cells": [
  {
   "cell_type": "code",
   "execution_count": 1,
   "metadata": {},
   "outputs": [],
   "source": [
    "import numpy as np\n",
    "import pprint\n",
    "from collections import deque\n",
    "from typing import List"
   ]
  },
  {
   "cell_type": "code",
   "execution_count": 2,
   "metadata": {},
   "outputs": [],
   "source": [
    "class Node:\n",
    "\n",
    "    def __init__(self,orig_seq,code,left=None,right=None):\n",
    "        self.orig_seq=orig_seq\n",
    "        self.code=code\n",
    "        self.left=left\n",
    "        self.right=right\n",
    "        \n",
    "\n",
    "def uniq_letters_lr(x):\n",
    "    uniq_letters={}\n",
    "    for ele in x:\n",
    "        if uniq_letters.get(ele,None) == None:\n",
    "            uniq_letters.update({ele:1})\n",
    "        else:\n",
    "            uniq_letters[ele]+=1\n",
    "    \n",
    "    uniq=[*uniq_letters]\n",
    "    uniq.sort()\n",
    "    l=int(np.ceil(len(uniq)/2))\n",
    "    r=int(np.floor(len(uniq)/2))\n",
    "    array_0=uniq[:l]\n",
    "    array_1=uniq[l:]\n",
    "\n",
    "    return(array_0,array_1)\n",
    "\n",
    "def create_tree(my_list):\n",
    "    if len(my_list)<=1:\n",
    "        return None\n",
    "\n",
    "    array_0,array_1=uniq_letters_lr(my_list)\n",
    "    l=[]\n",
    "    parent=[]\n",
    "    r=[]\n",
    "\n",
    "    for i in my_list:\n",
    "        if i in array_0:\n",
    "            l.append(i)\n",
    "            parent.append(0)\n",
    "        else:\n",
    "            r.append(i)\n",
    "            parent.append(1)\n",
    "        \n",
    "    # print(parent,l,r)\n",
    "    my_node=Node(my_list,parent)\n",
    "    my_node.left=create_tree(l)\n",
    "    my_node.right=create_tree(r)\n",
    "\n",
    "    return my_node\n",
    "\n",
    "\n",
    "\n",
    "def traverse(tree,num_levels):\n",
    "\n",
    "    q=deque()\n",
    "    q.append(tree)\n",
    " \n",
    "    while len(q)>0:\n",
    "        l = len(q)\n",
    "        level=int(np.log2(l))\n",
    "        print_bit='Level '+ str(level)+\":\"\n",
    "        while l>0:\n",
    "            nde=q.popleft()\n",
    "            if nde!=None:\n",
    "                q.append(nde.left)\n",
    "                q.append(nde.right)\n",
    "                str_ints = [str(val) for val in nde.code]\n",
    "                if print_bit[-1]==\":\":\n",
    "                    print_bit=print_bit+''.join(str_ints)\n",
    "                else:\n",
    "                    print_bit=print_bit+\",\"+''.join(str_ints)\n",
    "            else:\n",
    "                print_bit=print_bit+\",\"+\"X\"\n",
    "            l-=1\n",
    "        print(print_bit)\n",
    "        if level==num_levels:\n",
    "            break\n",
    "\n",
    "    return"
   ]
  },
  {
   "cell_type": "code",
   "execution_count": 3,
   "metadata": {},
   "outputs": [],
   "source": [
    "def create_wavelet_tree(A:List[int]):\n",
    "    uniq_dig=uniq_letters_lr(A)\n",
    "    num_levels=int(np.floor(np.log2(len(uniq_dig[0])+len(uniq_dig[1]))))\n",
    " \n",
    "    wave=create_tree(A)\n",
    "\n",
    "    print('-'*50,'Wavelet tree','-'*50)\n",
    "    traverse(wave,num_levels)\n",
    "\n",
    "\n",
    "    return(wave)"
   ]
  },
  {
   "cell_type": "code",
   "execution_count": 4,
   "metadata": {},
   "outputs": [],
   "source": [
    "def print_tree(A):\n",
    "    create_wavelet_tree(A)\n",
    "    return\n",
    "\n"
   ]
  },
  {
   "cell_type": "code",
   "execution_count": 5,
   "metadata": {},
   "outputs": [
    {
     "name": "stdout",
     "output_type": "stream",
     "text": [
      "-------------------------------------------------- Wavelet tree --------------------------------------------------\n",
      "Level 0:1001100110\n",
      "Level 1:00101,00110\n",
      "Level 2:100,01,010,10\n",
      "Level 3:01,X,X,X,10,X,X,X\n"
     ]
    }
   ],
   "source": [
    "A=[6, 2, 0, 7, 9, 3, 1, 8, 5, 4]\n",
    "print_tree(A)"
   ]
  },
  {
   "cell_type": "code",
   "execution_count": null,
   "metadata": {},
   "outputs": [],
   "source": []
  }
 ],
 "metadata": {
  "kernelspec": {
   "display_name": "Python 3.9.6 64-bit",
   "language": "python",
   "name": "python3"
  },
  "language_info": {
   "codemirror_mode": {
    "name": "ipython",
    "version": 3
   },
   "file_extension": ".py",
   "mimetype": "text/x-python",
   "name": "python",
   "nbconvert_exporter": "python",
   "pygments_lexer": "ipython3",
   "version": "3.9.6"
  },
  "orig_nbformat": 4,
  "vscode": {
   "interpreter": {
    "hash": "e3b5fbd04f68e2b0d30e8aa6dfd8616d885f307650246806c8ef721be6274b54"
   }
  }
 },
 "nbformat": 4,
 "nbformat_minor": 2
}
